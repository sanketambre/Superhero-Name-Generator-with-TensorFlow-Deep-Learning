{
  "nbformat": 4,
  "nbformat_minor": 0,
  "metadata": {
    "accelerator": "GPU",
    "colab": {
      "name": "Superhero Name Generator - Learner.ipynb",
      "provenance": [],
      "collapsed_sections": []
    },
    "kernelspec": {
      "display_name": "Python 3",
      "language": "python",
      "name": "python3"
    },
    "language_info": {
      "codemirror_mode": {
        "name": "ipython",
        "version": 3
      },
      "file_extension": ".py",
      "mimetype": "text/x-python",
      "name": "python",
      "nbconvert_exporter": "python",
      "pygments_lexer": "ipython3",
      "version": "3.8.3"
    }
  },
  "cells": [
    {
      "cell_type": "markdown",
      "metadata": {
        "id": "21XXWP7Fpt2L"
      },
      "source": [
        "# Superhero Name Generator\n",
        "\n",
        "---\n",
        "\n",
        "[Superhero Names Dataset](https://github.com/am1tyadav/superhero)"
      ]
    },
    {
      "cell_type": "markdown",
      "metadata": {
        "id": "role7HxvEetI"
      },
      "source": [
        "import data"
      ]
    },
    {
      "cell_type": "code",
      "metadata": {
        "id": "srULhalZpt2M",
        "colab": {
          "base_uri": "https://localhost:8080/"
        },
        "outputId": "65e17703-3eb2-4811-ce14-cdcaf70548c9"
      },
      "source": [
        "!git clone https://github.com/am1tyadav/superhero"
      ],
      "execution_count": 1,
      "outputs": [
        {
          "output_type": "stream",
          "text": [
            "Cloning into 'superhero'...\n",
            "remote: Enumerating objects: 8, done.\u001b[K\n",
            "remote: Counting objects: 100% (8/8), done.\u001b[K\n",
            "remote: Compressing objects: 100% (7/7), done.\u001b[K\n",
            "remote: Total 8 (delta 0), reused 4 (delta 0), pack-reused 0\u001b[K\n",
            "Unpacking objects: 100% (8/8), done.\n"
          ],
          "name": "stdout"
        }
      ]
    },
    {
      "cell_type": "code",
      "metadata": {
        "id": "uq4CLmsLpt2P",
        "colab": {
          "base_uri": "https://localhost:8080/",
          "height": 35
        },
        "outputId": "9ba1fc80-44b7-40a1-c6e2-7df8583e19d7"
      },
      "source": [
        "with open('superhero/superheroes.txt','r') as f:\n",
        "  data=f.read()\n",
        "\n",
        "data[:100]"
      ],
      "execution_count": 2,
      "outputs": [
        {
          "output_type": "execute_result",
          "data": {
            "application/vnd.google.colaboratory.intrinsic+json": {
              "type": "string"
            },
            "text/plain": [
              "'jumpa\\t\\ndoctor fate\\t\\nstarlight\\t\\nisildur\\t\\nlasher\\t\\nvarvara\\t\\nthe target\\t\\naxel\\t\\nbattra\\t\\nchangeling\\t\\npyrrh'"
            ]
          },
          "metadata": {
            "tags": []
          },
          "execution_count": 2
        }
      ]
    },
    {
      "cell_type": "code",
      "metadata": {
        "id": "JqhtLuAHpt2R",
        "colab": {
          "base_uri": "https://localhost:8080/"
        },
        "outputId": "95ed1729-5799-4b78-bf4c-42c8fb2d9f7c"
      },
      "source": [
        "import tensorflow as tf\n",
        "print(tf.__version__)"
      ],
      "execution_count": 3,
      "outputs": [
        {
          "output_type": "stream",
          "text": [
            "2.5.0\n"
          ],
          "name": "stdout"
        }
      ]
    },
    {
      "cell_type": "markdown",
      "metadata": {
        "id": "TgAG3DxIEWtB"
      },
      "source": [
        "Create a tokenizer"
      ]
    },
    {
      "cell_type": "code",
      "metadata": {
        "id": "95Lo1Yqzpt2T"
      },
      "source": [
        "tokenizer = tf.keras.preprocessing.text.Tokenizer(\n",
        "    filters='!\"#$%&()*+,-./:;<=>?@[\\\\]^_`{|}~',\n",
        "    split='\\n',\n",
        ")\n",
        "\n",
        "tokenizer.fit_on_texts(data)"
      ],
      "execution_count": 4,
      "outputs": []
    },
    {
      "cell_type": "markdown",
      "metadata": {
        "id": "ZcDn_PtGEBBy"
      },
      "source": [
        "char-to-index and index-to-char dictionaries"
      ]
    },
    {
      "cell_type": "code",
      "metadata": {
        "id": "EO4-dPM6pt2X"
      },
      "source": [
        "char_to_index=tokenizer.word_index\n",
        "index_to_char = dict((v,k) for k,v in char_to_index.items())"
      ],
      "execution_count": 6,
      "outputs": []
    },
    {
      "cell_type": "markdown",
      "metadata": {
        "id": "YNceTQvZD0CR"
      },
      "source": [
        "converting between names and sequences"
      ]
    },
    {
      "cell_type": "code",
      "metadata": {
        "id": "N7iQLIXzpt2a",
        "colab": {
          "base_uri": "https://localhost:8080/"
        },
        "outputId": "c8019b7c-3721-4ea7-dca6-684116082dcc"
      },
      "source": [
        "names =  data.splitlines()\n",
        "names[:10]"
      ],
      "execution_count": 8,
      "outputs": [
        {
          "output_type": "execute_result",
          "data": {
            "text/plain": [
              "['jumpa\\t',\n",
              " 'doctor fate\\t',\n",
              " 'starlight\\t',\n",
              " 'isildur\\t',\n",
              " 'lasher\\t',\n",
              " 'varvara\\t',\n",
              " 'the target\\t',\n",
              " 'axel\\t',\n",
              " 'battra\\t',\n",
              " 'changeling\\t']"
            ]
          },
          "metadata": {
            "tags": []
          },
          "execution_count": 8
        }
      ]
    },
    {
      "cell_type": "code",
      "metadata": {
        "id": "n_-TTfqipt2c",
        "colab": {
          "base_uri": "https://localhost:8080/"
        },
        "outputId": "e4edeabf-7745-498f-bc32-81f92169f8f0"
      },
      "source": [
        "tokenizer.texts_to_sequences(names[0])"
      ],
      "execution_count": 9,
      "outputs": [
        {
          "output_type": "execute_result",
          "data": {
            "text/plain": [
              "[[25], [16], [12], [20], [2], [1]]"
            ]
          },
          "metadata": {
            "tags": []
          },
          "execution_count": 9
        }
      ]
    },
    {
      "cell_type": "code",
      "metadata": {
        "id": "P6IsKH1Upt2e"
      },
      "source": [
        "def name_to_seq(name):\n",
        "  return [tokenizer.texts_to_sequences(c)[0][0] for c in name]"
      ],
      "execution_count": 10,
      "outputs": []
    },
    {
      "cell_type": "code",
      "metadata": {
        "id": "TuLUiMP3pt2g",
        "colab": {
          "base_uri": "https://localhost:8080/"
        },
        "outputId": "864e47e8-2bd7-4a13-b680-c347223617de"
      },
      "source": [
        "name_to_seq(names[0])"
      ],
      "execution_count": 11,
      "outputs": [
        {
          "output_type": "execute_result",
          "data": {
            "text/plain": [
              "[25, 16, 12, 20, 2, 1]"
            ]
          },
          "metadata": {
            "tags": []
          },
          "execution_count": 11
        }
      ]
    },
    {
      "cell_type": "code",
      "metadata": {
        "id": "yFUYhimKpt2h"
      },
      "source": [
        "def seq_to_name(seq):\n",
        "  return ''.join([index_to_char[i] for i in seq if i!=0])"
      ],
      "execution_count": 12,
      "outputs": []
    },
    {
      "cell_type": "code",
      "metadata": {
        "id": "ROhCqmhLpt2k",
        "colab": {
          "base_uri": "https://localhost:8080/",
          "height": 35
        },
        "outputId": "3be734c0-cbe5-4953-90d7-86fd4627f39b"
      },
      "source": [
        "seq_to_name(name_to_seq(names[0]))"
      ],
      "execution_count": 13,
      "outputs": [
        {
          "output_type": "execute_result",
          "data": {
            "application/vnd.google.colaboratory.intrinsic+json": {
              "type": "string"
            },
            "text/plain": [
              "'jumpa\\t'"
            ]
          },
          "metadata": {
            "tags": []
          },
          "execution_count": 13
        }
      ]
    },
    {
      "cell_type": "markdown",
      "metadata": {
        "id": "uCbAzsNjpt2m"
      },
      "source": [
        "Creating sequences\n"
      ]
    },
    {
      "cell_type": "code",
      "metadata": {
        "id": "zstNn-0dpt2m"
      },
      "source": [
        "sequences=[]"
      ],
      "execution_count": 15,
      "outputs": []
    },
    {
      "cell_type": "code",
      "metadata": {
        "id": "BjRTMysvpt2o"
      },
      "source": [
        "for name in names:\n",
        "  seq=name_to_seq(name)\n",
        "  if len(seq)>=2:\n",
        "    sequences+=[seq[:i] for i in range (2,len(seq)+1)]"
      ],
      "execution_count": 16,
      "outputs": []
    },
    {
      "cell_type": "code",
      "metadata": {
        "id": "SR68pu2tpt2q",
        "colab": {
          "base_uri": "https://localhost:8080/"
        },
        "outputId": "f5351cfd-c2a7-4232-f939-8f81050455a9"
      },
      "source": [
        "sequences[:10]"
      ],
      "execution_count": 17,
      "outputs": [
        {
          "output_type": "execute_result",
          "data": {
            "text/plain": [
              "[[25, 16],\n",
              " [25, 16, 12],\n",
              " [25, 16, 12, 20],\n",
              " [25, 16, 12, 20, 2],\n",
              " [25, 16, 12, 20, 2, 1],\n",
              " [14, 5],\n",
              " [14, 5, 15],\n",
              " [14, 5, 15, 9],\n",
              " [14, 5, 15, 9, 5],\n",
              " [14, 5, 15, 9, 5, 4]]"
            ]
          },
          "metadata": {
            "tags": []
          },
          "execution_count": 17
        }
      ]
    },
    {
      "cell_type": "code",
      "metadata": {
        "id": "h_1BtWO7pt2r",
        "colab": {
          "base_uri": "https://localhost:8080/"
        },
        "outputId": "e64fcc71-27c7-4f63-8cf7-c23a9193b74b"
      },
      "source": [
        "max_len=max([len(x) for x in sequences])\n",
        "max_len"
      ],
      "execution_count": 18,
      "outputs": [
        {
          "output_type": "execute_result",
          "data": {
            "text/plain": [
              "33"
            ]
          },
          "metadata": {
            "tags": []
          },
          "execution_count": 18
        }
      ]
    },
    {
      "cell_type": "markdown",
      "metadata": {
        "id": "oB4PaqVWDrt6"
      },
      "source": [
        "Padding all sequences"
      ]
    },
    {
      "cell_type": "code",
      "metadata": {
        "id": "sPlrLRpSpt2t",
        "colab": {
          "base_uri": "https://localhost:8080/"
        },
        "outputId": "55f381fa-3df3-4eaf-bc38-d575b3ee916d"
      },
      "source": [
        "paddded_sequences = tf.keras.preprocessing.sequence.pad_sequences(\n",
        "    sequences,padding='pre',maxlen=max_len)\n",
        "\n",
        "paddded_sequences[0]"
      ],
      "execution_count": 19,
      "outputs": [
        {
          "output_type": "execute_result",
          "data": {
            "text/plain": [
              "array([ 0,  0,  0,  0,  0,  0,  0,  0,  0,  0,  0,  0,  0,  0,  0,  0,  0,\n",
              "        0,  0,  0,  0,  0,  0,  0,  0,  0,  0,  0,  0,  0,  0, 25, 16],\n",
              "      dtype=int32)"
            ]
          },
          "metadata": {
            "tags": []
          },
          "execution_count": 19
        }
      ]
    },
    {
      "cell_type": "code",
      "metadata": {
        "colab": {
          "base_uri": "https://localhost:8080/"
        },
        "id": "5b7umyYgB2JF",
        "outputId": "47af587b-a5da-4378-b805-9177ffc6c679"
      },
      "source": [
        "paddded_sequences.shape"
      ],
      "execution_count": 20,
      "outputs": [
        {
          "output_type": "execute_result",
          "data": {
            "text/plain": [
              "(88279, 33)"
            ]
          },
          "metadata": {
            "tags": []
          },
          "execution_count": 20
        }
      ]
    },
    {
      "cell_type": "markdown",
      "metadata": {
        "id": "26ipeyHv0YeC"
      },
      "source": [
        "Creating Training and Validation Sets\n",
        "\n"
      ]
    },
    {
      "cell_type": "code",
      "metadata": {
        "id": "BE4BIeSnpt2v"
      },
      "source": [
        "x,y=paddded_sequences[:,:-1],paddded_sequences[:,-1]"
      ],
      "execution_count": 21,
      "outputs": []
    },
    {
      "cell_type": "code",
      "metadata": {
        "id": "9xr-3p0H0YeC"
      },
      "source": [
        "from sklearn.model_selection import train_test_split\n",
        "\n",
        "x_train,x_test,y_train,y_test=train_test_split(x,y)\n",
        "\n"
      ],
      "execution_count": 22,
      "outputs": []
    },
    {
      "cell_type": "code",
      "metadata": {
        "id": "cgqRZtqnpt2x"
      },
      "source": [
        "num_chars=len(char_to_index.keys())+1"
      ],
      "execution_count": 23,
      "outputs": []
    },
    {
      "cell_type": "code",
      "metadata": {
        "colab": {
          "base_uri": "https://localhost:8080/"
        },
        "id": "bfDc36_YEP1U",
        "outputId": "6720b9a9-3167-4cb9-f258-65537ad9612e"
      },
      "source": [
        "num_chars"
      ],
      "execution_count": 24,
      "outputs": [
        {
          "output_type": "execute_result",
          "data": {
            "text/plain": [
              "29"
            ]
          },
          "metadata": {
            "tags": []
          },
          "execution_count": 24
        }
      ]
    },
    {
      "cell_type": "markdown",
      "metadata": {
        "id": "_-pVe8tH0YeC"
      },
      "source": [
        "Creating the Model"
      ]
    },
    {
      "cell_type": "code",
      "metadata": {
        "id": "2zfTpWRD0YeD",
        "colab": {
          "base_uri": "https://localhost:8080/"
        },
        "outputId": "9b6e5ae0-3652-4b17-a816-e87ec10a5def"
      },
      "source": [
        "from tensorflow.keras.models import Sequential\n",
        "from tensorflow.keras.layers import Embedding, Conv1D, MaxPool1D, LSTM\n",
        "from tensorflow.keras.layers import Bidirectional, Dense\n",
        "\n",
        "model = Sequential([\n",
        "                    Embedding(num_chars,8,input_length=max_len-1),\n",
        "                    Conv1D(64,5,strides=1,activation='tanh',padding='causal'),\n",
        "                    MaxPool1D(2),\n",
        "                    LSTM(32),\n",
        "                    Dense(num_chars,activation='softmax')\n",
        "])\n",
        "\n",
        "model.compile(\n",
        "    loss='sparse_categorical_crossentropy',\n",
        "    optimizer='adam',\n",
        "    metrics=['accuracy']\n",
        ")\n",
        "\n",
        "model.summary()"
      ],
      "execution_count": 25,
      "outputs": [
        {
          "output_type": "stream",
          "text": [
            "Model: \"sequential\"\n",
            "_________________________________________________________________\n",
            "Layer (type)                 Output Shape              Param #   \n",
            "=================================================================\n",
            "embedding (Embedding)        (None, 32, 8)             232       \n",
            "_________________________________________________________________\n",
            "conv1d (Conv1D)              (None, 32, 64)            2624      \n",
            "_________________________________________________________________\n",
            "max_pooling1d (MaxPooling1D) (None, 16, 64)            0         \n",
            "_________________________________________________________________\n",
            "lstm (LSTM)                  (None, 32)                12416     \n",
            "_________________________________________________________________\n",
            "dense (Dense)                (None, 29)                957       \n",
            "=================================================================\n",
            "Total params: 16,229\n",
            "Trainable params: 16,229\n",
            "Non-trainable params: 0\n",
            "_________________________________________________________________\n"
          ],
          "name": "stdout"
        }
      ]
    },
    {
      "cell_type": "markdown",
      "metadata": {
        "id": "xIkjDSOV0YeD"
      },
      "source": [
        "Training the Model"
      ]
    },
    {
      "cell_type": "code",
      "metadata": {
        "id": "j0Ssl4qupt22",
        "colab": {
          "base_uri": "https://localhost:8080/"
        },
        "outputId": "1f9b344d-a75c-4573-fb85-de9f74fb0404"
      },
      "source": [
        "h=model.fit(\n",
        "    x_train,y_train,validation_data=(x_test,y_test),\n",
        "    epochs=50,verbose=2,callbacks=[tf.keras.callbacks.EarlyStopping(monitor='val_accuracy',patience=2)]\n",
        ")\n",
        "    "
      ],
      "execution_count": 26,
      "outputs": [
        {
          "output_type": "stream",
          "text": [
            "Epoch 1/50\n",
            "2070/2070 - 43s - loss: 2.7478 - accuracy: 0.1870 - val_loss: 2.5628 - val_accuracy: 0.2329\n",
            "Epoch 2/50\n",
            "2070/2070 - 9s - loss: 2.5164 - accuracy: 0.2419 - val_loss: 2.4809 - val_accuracy: 0.2502\n",
            "Epoch 3/50\n",
            "2070/2070 - 9s - loss: 2.4517 - accuracy: 0.2579 - val_loss: 2.4394 - val_accuracy: 0.2606\n",
            "Epoch 4/50\n",
            "2070/2070 - 9s - loss: 2.4046 - accuracy: 0.2700 - val_loss: 2.4002 - val_accuracy: 0.2708\n",
            "Epoch 5/50\n",
            "2070/2070 - 9s - loss: 2.3673 - accuracy: 0.2787 - val_loss: 2.3720 - val_accuracy: 0.2806\n",
            "Epoch 6/50\n",
            "2070/2070 - 9s - loss: 2.3380 - accuracy: 0.2883 - val_loss: 2.3488 - val_accuracy: 0.2897\n",
            "Epoch 7/50\n",
            "2070/2070 - 11s - loss: 2.3116 - accuracy: 0.2964 - val_loss: 2.3288 - val_accuracy: 0.2997\n",
            "Epoch 8/50\n",
            "2070/2070 - 9s - loss: 2.2883 - accuracy: 0.3044 - val_loss: 2.3131 - val_accuracy: 0.3030\n",
            "Epoch 9/50\n",
            "2070/2070 - 9s - loss: 2.2673 - accuracy: 0.3126 - val_loss: 2.3008 - val_accuracy: 0.3097\n",
            "Epoch 10/50\n",
            "2070/2070 - 9s - loss: 2.2494 - accuracy: 0.3184 - val_loss: 2.2921 - val_accuracy: 0.3111\n",
            "Epoch 11/50\n",
            "2070/2070 - 9s - loss: 2.2309 - accuracy: 0.3249 - val_loss: 2.2819 - val_accuracy: 0.3149\n",
            "Epoch 12/50\n",
            "2070/2070 - 9s - loss: 2.2158 - accuracy: 0.3284 - val_loss: 2.2661 - val_accuracy: 0.3173\n",
            "Epoch 13/50\n",
            "2070/2070 - 9s - loss: 2.2000 - accuracy: 0.3325 - val_loss: 2.2569 - val_accuracy: 0.3219\n",
            "Epoch 14/50\n",
            "2070/2070 - 11s - loss: 2.1861 - accuracy: 0.3366 - val_loss: 2.2500 - val_accuracy: 0.3228\n",
            "Epoch 15/50\n",
            "2070/2070 - 10s - loss: 2.1721 - accuracy: 0.3410 - val_loss: 2.2524 - val_accuracy: 0.3198\n",
            "Epoch 16/50\n",
            "2070/2070 - 9s - loss: 2.1594 - accuracy: 0.3445 - val_loss: 2.2367 - val_accuracy: 0.3286\n",
            "Epoch 17/50\n",
            "2070/2070 - 9s - loss: 2.1469 - accuracy: 0.3492 - val_loss: 2.2332 - val_accuracy: 0.3317\n",
            "Epoch 18/50\n",
            "2070/2070 - 9s - loss: 2.1358 - accuracy: 0.3525 - val_loss: 2.2272 - val_accuracy: 0.3362\n",
            "Epoch 19/50\n",
            "2070/2070 - 9s - loss: 2.1251 - accuracy: 0.3566 - val_loss: 2.2230 - val_accuracy: 0.3357\n",
            "Epoch 20/50\n",
            "2070/2070 - 9s - loss: 2.1145 - accuracy: 0.3592 - val_loss: 2.2197 - val_accuracy: 0.3369\n",
            "Epoch 21/50\n",
            "2070/2070 - 10s - loss: 2.1057 - accuracy: 0.3637 - val_loss: 2.2181 - val_accuracy: 0.3411\n",
            "Epoch 22/50\n",
            "2070/2070 - 10s - loss: 2.0959 - accuracy: 0.3651 - val_loss: 2.2151 - val_accuracy: 0.3420\n",
            "Epoch 23/50\n",
            "2070/2070 - 9s - loss: 2.0867 - accuracy: 0.3689 - val_loss: 2.2092 - val_accuracy: 0.3434\n",
            "Epoch 24/50\n",
            "2070/2070 - 10s - loss: 2.0787 - accuracy: 0.3725 - val_loss: 2.2082 - val_accuracy: 0.3473\n",
            "Epoch 25/50\n",
            "2070/2070 - 10s - loss: 2.0702 - accuracy: 0.3758 - val_loss: 2.2061 - val_accuracy: 0.3455\n",
            "Epoch 26/50\n",
            "2070/2070 - 9s - loss: 2.0620 - accuracy: 0.3782 - val_loss: 2.2130 - val_accuracy: 0.3427\n"
          ],
          "name": "stdout"
        }
      ]
    },
    {
      "cell_type": "code",
      "metadata": {
        "colab": {
          "base_uri": "https://localhost:8080/",
          "height": 265
        },
        "id": "8bTGvshJOlsF",
        "outputId": "febe8c47-1b52-4433-fa1e-e23edba9ee0d"
      },
      "source": [
        "from matplotlib import pyplot as plt\n",
        "\n",
        "epochs_ran = len(h.history['loss'])\n",
        "plt.plot(range(0,epochs_ran),h.history['val_accuracy'],label='validation')\n",
        "plt.plot(range(0,epochs_ran),h.history['accuracy'],label='Training')\n",
        "plt.legend()\n",
        "plt.show()"
      ],
      "execution_count": 27,
      "outputs": [
        {
          "output_type": "display_data",
          "data": {
            "image/png": "[encoded data removed]",
            "text/plain": [
              "<Figure size 432x288 with 1 Axes>"
            ]
          },
          "metadata": {
            "tags": [],
            "needs_background": "light"
          }
        }
      ]
    },
    {
      "cell_type": "markdown",
      "metadata": {
        "id": "-458bjUH0YeD"
      },
      "source": [
        "Generate Names!"
      ]
    },
    {
      "cell_type": "code",
      "metadata": {
        "id": "9f50aTRcpt24"
      },
      "source": [
        "def generate_names(seed):\n",
        "  for i in range(0,40):\n",
        "    seq=name_to_seq(seed)\n",
        "    padded = tf.keras.preprocessing.sequence.pad_sequences(\n",
        "        [seq],padding='pre',maxlen=max_len-1,truncating='pre')\n",
        "    pred = model.predict(padded)[0]\n",
        "    pred_char=index_to_char[tf.argmax(pred).numpy()]\n",
        "    seed+=pred_char\n",
        "\n",
        "    if pred_char == '\\t':\n",
        "      break\n",
        "  print(seed)\n"
      ],
      "execution_count": 28,
      "outputs": []
    },
    {
      "cell_type": "code",
      "metadata": {
        "id": "faQ0FInlpt26",
        "colab": {
          "base_uri": "https://localhost:8080/"
        },
        "outputId": "cfce4c97-1808-469a-f17b-1ea8b2415967"
      },
      "source": [
        "generate_names('am')"
      ],
      "execution_count": 29,
      "outputs": [
        {
          "output_type": "stream",
          "text": [
            "amarian man\t\n"
          ],
          "name": "stdout"
        }
      ]
    },
    {
      "cell_type": "code",
      "metadata": {
        "id": "L6Q5aA7bPsSq"
      },
      "source": [
        ""
      ],
      "execution_count": null,
      "outputs": []
    }
  ]
}