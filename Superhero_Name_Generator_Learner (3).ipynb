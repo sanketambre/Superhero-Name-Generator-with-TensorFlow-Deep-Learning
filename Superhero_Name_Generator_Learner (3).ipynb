{
  "nbformat": 4,
  "nbformat_minor": 0,
  "metadata": {
    "accelerator": "GPU",
    "colab": {
      "name": "Superhero Name Generator - Learner.ipynb",
      "provenance": [],
      "collapsed_sections": []
    },
    "kernelspec": {
      "display_name": "Python 3",
      "language": "python",
      "name": "python3"
    },
    "language_info": {
      "codemirror_mode": {
        "name": "ipython",
        "version": 3
      },
      "file_extension": ".py",
      "mimetype": "text/x-python",
      "name": "python",
      "nbconvert_exporter": "python",
      "pygments_lexer": "ipython3",
      "version": "3.8.3"
    }
  },
  "cells": [
    {
      "cell_type": "markdown",
      "metadata": {
        "id": "21XXWP7Fpt2L"
      },
      "source": [
        "# Superhero Name Generator\n",
        "\n",
        "---\n",
        "\n",
        "[Superhero Names Dataset](https://github.com/am1tyadav/superhero)"
      ]
    },
    {
      "cell_type": "markdown",
      "metadata": {
        "id": "role7HxvEetI"
      },
      "source": [
        "import data"
      ]
    },
    {
      "cell_type": "code",
      "metadata": {
        "id": "srULhalZpt2M"
      },
      "source": [
        "!git clone https://github.com/am1tyadav/superhero"
      ],
      "execution_count": null,
      "outputs": []
    },
    {
      "cell_type": "code",
      "metadata": {
        "id": "uq4CLmsLpt2P"
      },
      "source": [
        "with open('superhero/superheroes.txt','r') as f:\n",
        "  data=f.read()\n",
        "\n",
        "data[:100]"
      ],
      "execution_count": null,
      "outputs": []
    },
    {
      "cell_type": "code",
      "metadata": {
        "id": "JqhtLuAHpt2R"
      },
      "source": [
        "import tensorflow as tf\n",
        "print(tf.__version__)"
      ],
      "execution_count": null,
      "outputs": []
    },
    {
      "cell_type": "markdown",
      "metadata": {
        "id": "TgAG3DxIEWtB"
      },
      "source": [
        "Create a tokenizer"
      ]
    },
    {
      "cell_type": "code",
      "metadata": {
        "id": "95Lo1Yqzpt2T"
      },
      "source": [
        "tokenizer = tf.keras.preprocessing.text.Tokenizer(\n",
        "    filters='!\"#$%&()*+,-./:;<=>?@[\\\\]^_`{|}~',\n",
        "    split='\\n',\n",
        ")\n",
        "\n",
        "tokenizer.fit_on_texts(data)"
      ],
      "execution_count": 4,
      "outputs": []
    },
    {
      "cell_type": "markdown",
      "metadata": {
        "id": "ZcDn_PtGEBBy"
      },
      "source": [
        "char-to-index and index-to-char dictionaries"
      ]
    },
    {
      "cell_type": "code",
      "metadata": {
        "id": "EO4-dPM6pt2X"
      },
      "source": [
        "char_to_index=tokenizer.word_index\n",
        "index_to_char = dict((v,k) for k,v in char_to_index.items())"
      ],
      "execution_count": 6,
      "outputs": []
    },
    {
      "cell_type": "markdown",
      "metadata": {
        "id": "YNceTQvZD0CR"
      },
      "source": [
        "converting between names and sequences"
      ]
    },
    {
      "cell_type": "code",
      "metadata": {
        "id": "N7iQLIXzpt2a"
      },
      "source": [
        "names =  data.splitlines()\n",
        "names[:10]"
      ],
      "execution_count": null,
      "outputs": []
    },
    {
      "cell_type": "code",
      "metadata": {
        "id": "n_-TTfqipt2c"
      },
      "source": [
        "tokenizer.texts_to_sequences(names[0])"
      ],
      "execution_count": null,
      "outputs": []
    },
    {
      "cell_type": "code",
      "metadata": {
        "id": "P6IsKH1Upt2e"
      },
      "source": [
        "def name_to_seq(name):\n",
        "  return [tokenizer.texts_to_sequences(c)[0][0] for c in name]"
      ],
      "execution_count": 10,
      "outputs": []
    },
    {
      "cell_type": "code",
      "metadata": {
        "id": "TuLUiMP3pt2g"
      },
      "source": [
        "name_to_seq(names[0])"
      ],
      "execution_count": null,
      "outputs": []
    },
    {
      "cell_type": "code",
      "metadata": {
        "id": "yFUYhimKpt2h"
      },
      "source": [
        "def seq_to_name(seq):\n",
        "  return ''.join([index_to_char[i] for i in seq if i!=0])"
      ],
      "execution_count": 12,
      "outputs": []
    },
    {
      "cell_type": "code",
      "metadata": {
        "id": "ROhCqmhLpt2k"
      },
      "source": [
        "seq_to_name(name_to_seq(names[0]))"
      ],
      "execution_count": null,
      "outputs": []
    },
    {
      "cell_type": "markdown",
      "metadata": {
        "id": "uCbAzsNjpt2m"
      },
      "source": [
        "Creating sequences\n"
      ]
    },
    {
      "cell_type": "code",
      "metadata": {
        "id": "zstNn-0dpt2m"
      },
      "source": [
        "sequences=[]"
      ],
      "execution_count": 15,
      "outputs": []
    },
    {
      "cell_type": "code",
      "metadata": {
        "id": "BjRTMysvpt2o"
      },
      "source": [
        "for name in names:\n",
        "  seq=name_to_seq(name)\n",
        "  if len(seq)>=2:\n",
        "    sequences+=[seq[:i] for i in range (2,len(seq)+1)]"
      ],
      "execution_count": 16,
      "outputs": []
    },
    {
      "cell_type": "code",
      "metadata": {
        "id": "SR68pu2tpt2q"
      },
      "source": [
        "sequences[:10]"
      ],
      "execution_count": null,
      "outputs": []
    },
    {
      "cell_type": "code",
      "metadata": {
        "id": "h_1BtWO7pt2r"
      },
      "source": [
        "max_len=max([len(x) for x in sequences])\n",
        "max_len"
      ],
      "execution_count": null,
      "outputs": []
    },
    {
      "cell_type": "markdown",
      "metadata": {
        "id": "oB4PaqVWDrt6"
      },
      "source": [
        "Padding all sequences"
      ]
    },
    {
      "cell_type": "code",
      "metadata": {
        "id": "sPlrLRpSpt2t"
      },
      "source": [
        "paddded_sequences = tf.keras.preprocessing.sequence.pad_sequences(\n",
        "    sequences,padding='pre',maxlen=max_len)\n",
        "\n",
        "paddded_sequences[0]"
      ],
      "execution_count": null,
      "outputs": []
    },
    {
      "cell_type": "code",
      "metadata": {
        "id": "5b7umyYgB2JF"
      },
      "source": [
        "paddded_sequences.shape"
      ],
      "execution_count": null,
      "outputs": []
    },
    {
      "cell_type": "markdown",
      "metadata": {
        "id": "26ipeyHv0YeC"
      },
      "source": [
        "Creating Training and Validation Sets\n",
        "\n"
      ]
    },
    {
      "cell_type": "code",
      "metadata": {
        "id": "BE4BIeSnpt2v"
      },
      "source": [
        "x,y=paddded_sequences[:,:-1],paddded_sequences[:,-1]"
      ],
      "execution_count": 21,
      "outputs": []
    },
    {
      "cell_type": "code",
      "metadata": {
        "id": "9xr-3p0H0YeC"
      },
      "source": [
        "from sklearn.model_selection import train_test_split\n",
        "\n",
        "x_train,x_test,y_train,y_test=train_test_split(x,y)\n",
        "\n"
      ],
      "execution_count": 22,
      "outputs": []
    },
    {
      "cell_type": "code",
      "metadata": {
        "id": "cgqRZtqnpt2x"
      },
      "source": [
        "num_chars=len(char_to_index.keys())+1"
      ],
      "execution_count": 23,
      "outputs": []
    },
    {
      "cell_type": "code",
      "metadata": {
        "id": "bfDc36_YEP1U"
      },
      "source": [
        "num_chars"
      ],
      "execution_count": null,
      "outputs": []
    },
    {
      "cell_type": "markdown",
      "metadata": {
        "id": "_-pVe8tH0YeC"
      },
      "source": [
        "Creating the Model"
      ]
    },
    {
      "cell_type": "code",
      "metadata": {
        "id": "2zfTpWRD0YeD"
      },
      "source": [
        "from tensorflow.keras.models import Sequential\n",
        "from tensorflow.keras.layers import Embedding, Conv1D, MaxPool1D, LSTM\n",
        "from tensorflow.keras.layers import Bidirectional, Dense\n",
        "\n",
        "model = Sequential([\n",
        "                    Embedding(num_chars,8,input_length=max_len-1),\n",
        "                    Conv1D(64,5,strides=1,activation='tanh',padding='causal'),\n",
        "                    MaxPool1D(2),\n",
        "                    LSTM(32),\n",
        "                    Dense(num_chars,activation='softmax')\n",
        "])\n",
        "\n",
        "model.compile(\n",
        "    loss='sparse_categorical_crossentropy',\n",
        "    optimizer='adam',\n",
        "    metrics=['accuracy']\n",
        ")\n",
        "\n",
        "model.summary()"
      ],
      "execution_count": null,
      "outputs": []
    },
    {
      "cell_type": "markdown",
      "metadata": {
        "id": "xIkjDSOV0YeD"
      },
      "source": [
        "Training the Model"
      ]
    },
    {
      "cell_type": "code",
      "metadata": {
        "id": "j0Ssl4qupt22"
      },
      "source": [
        "h=model.fit(\n",
        "    x_train,y_train,validation_data=(x_test,y_test),\n",
        "    epochs=50,verbose=2,callbacks=[tf.keras.callbacks.EarlyStopping(monitor='val_accuracy',patience=2)]\n",
        ")\n",
        "    "
      ],
      "execution_count": null,
      "outputs": []
    },
    {
      "cell_type": "code",
      "metadata": {
        "id": "8bTGvshJOlsF"
      },
      "source": [
        "from matplotlib import pyplot as plt\n",
        "\n",
        "epochs_ran = len(h.history['loss'])\n",
        "plt.plot(range(0,epochs_ran),h.history['val_accuracy'],label='validation')\n",
        "plt.plot(range(0,epochs_ran),h.history['accuracy'],label='Training')\n",
        "plt.legend()\n",
        "plt.show()"
      ],
      "execution_count": null,
      "outputs": []
    },
    {
      "cell_type": "markdown",
      "metadata": {
        "id": "-458bjUH0YeD"
      },
      "source": [
        "Generate Names!"
      ]
    },
    {
      "cell_type": "code",
      "metadata": {
        "id": "9f50aTRcpt24"
      },
      "source": [
        "def generate_names(seed):\n",
        "  for i in range(0,40):\n",
        "    seq=name_to_seq(seed)\n",
        "    padded = tf.keras.preprocessing.sequence.pad_sequences(\n",
        "        [seq],padding='pre',maxlen=max_len-1,truncating='pre')\n",
        "    pred = model.predict(padded)[0]\n",
        "    pred_char=index_to_char[tf.argmax(pred).numpy()]\n",
        "    seed+=pred_char\n",
        "\n",
        "    if pred_char == '\\t':\n",
        "      break\n",
        "  print(seed)\n"
      ],
      "execution_count": 28,
      "outputs": []
    },
    {
      "cell_type": "code",
      "metadata": {
        "id": "faQ0FInlpt26"
      },
      "source": [
        "generate_names('am')"
      ],
      "execution_count": null,
      "outputs": []
    },
    {
      "cell_type": "code",
      "metadata": {
        "id": "L6Q5aA7bPsSq"
      },
      "source": [
        ""
      ],
      "execution_count": null,
      "outputs": []
    }
  ]
}